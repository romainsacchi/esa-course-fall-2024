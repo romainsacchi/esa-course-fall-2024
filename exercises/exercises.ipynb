{
 "cells": [
  {
   "cell_type": "code",
   "id": "initial_id",
   "metadata": {
    "collapsed": true,
    "jupyter": {
     "outputs_hidden": true
    }
   },
   "source": [
    "import numpy as np # <-- Import numpy to use arrays\n",
    "import pandas as pd # <-- Import pandas to use dataframes\n",
    "import matplotlib.pyplot as plt # <-- Import matplotlib to plot data"
   ],
   "outputs": [],
   "execution_count": null
  },
  {
   "cell_type": "markdown",
   "id": "5f2f57e19b0cd7e8",
   "metadata": {},
   "source": [
    "# Exercise 1 - Life cycle assessment of current electricity production\n",
    "\n",
    "In this exercise, we will calculate the environmental impact of the current electricity production in a fictious country. We will consider the manufacturing and operation of different power plants, as well as the manufacturing of wind turbines and solar panels. We will also consider the treatment of waste from the manufacturing of these products. The environmental impact will be calculated using the ReCiPe method, which includes the following impact categories:\n",
    "\n",
    "- Climate change\n",
    "- Human toxicity\n",
    "- Metals\n",
    "- Water\n",
    "- Fine particles emissions\n",
    "\n",
    "The environmental impact will be calculated per unit of electricity produced by each technology. The results will be presented in stacked bar charts, with each bar representing the contribution of different activities to the total impact in each category."
   ]
  },
  {
   "cell_type": "markdown",
   "id": "7847ea53435b86f",
   "metadata": {},
   "source": [
    "### List of activities in the system (can also be found in emission_factors.csv)\n",
    "\n",
    "Make a list called `activities` with the activities found in emission_factors.csv."
   ]
  },
  {
   "cell_type": "code",
   "id": "2da05d5d7f0cf5ee",
   "metadata": {},
   "source": [
    "activities=[\n",
    "    \"steel\",\n",
    "    \"concrete\",\n",
    "    \"copper\",\n",
    "    \"glass fibre reinforced plastic\",\n",
    "    \"neodymium\",\n",
    "    \"concrete waste treatment\",\n",
    "    \"glass waste treatment\",\n",
    "    \"silicone\",\n",
    "    \"glass\",\n",
    "    \"aluminium\",\n",
    "    \"silver\",\n",
    "    \"deionized water\",\n",
    "    \"hard coal\",\n",
    "    \"water\",\n",
    "    \"natural gas\",\n",
    "]"
   ],
   "outputs": [],
   "execution_count": null
  },
  {
   "cell_type": "markdown",
   "id": "ce3977532c16183",
   "metadata": {},
   "source": [
    "## Add activities for manufacturing and operation of power plants\n",
    "\n",
    "Add activities for the manufacturing and operation of the following power plants:\n",
    "\n",
    "- Wind turbine\n",
    "- Solar panel\n",
    "- Hard coal power plant\n",
    "- Natural gas power plant\n",
    "- Hydropower plant"
   ]
  },
  {
   "cell_type": "code",
   "id": "e978a8a78232ee61",
   "metadata": {},
   "source": [
    "activities.extend(\n",
    "    [f\"{x} ({y})\" \n",
    "    for y in (\"build\", \"op\") \n",
    "    for x in (\n",
    "        \"wind turbine\",\n",
    "        \"solar panel\",\n",
    "        \"hard coal power plant\",\n",
    "        \"natural gas power plant\",\n",
    "        \"hydro power plant\",\n",
    "    )]\n",
    ")"
   ],
   "outputs": [],
   "execution_count": null
  },
  {
   "cell_type": "markdown",
   "id": "14815dbc338fe105",
   "metadata": {},
   "source": [
    "### Add activity for grid electricity\n",
    "\n",
    "Add an activity for grid electricity to account for the environmental impact of the electricity consumed by the power plants during operation. Call it \"grid electricity\"."
   ]
  },
  {
   "cell_type": "code",
   "id": "f0ca3fcfbe7e801d",
   "metadata": {},
   "source": [
    "activities.append(\"grid electricity\")"
   ],
   "outputs": [],
   "execution_count": null
  },
  {
   "cell_type": "markdown",
   "id": "7197c96f31ca0ac4",
   "metadata": {},
   "source": [
    "### Create a dictionary to map activities to indices in the matrix\n",
    "\n",
    "Create a dictionary called `activities` that maps each activity to its index in the matrix. The index should correspond to the position of the activity in the `activities` list."
   ]
  },
  {
   "cell_type": "code",
   "id": "8d2ed926caf67915",
   "metadata": {},
   "source": [
    "activities = {activity: i for i, activity in enumerate(activities)}"
   ],
   "outputs": [],
   "execution_count": null
  },
  {
   "cell_type": "markdown",
   "id": "835716f317edf746",
   "metadata": {},
   "source": [
    "### For convenience, we create smaller dictionary for each type of activity\n",
    "\n",
    "Create three dictionaries called `mat`, `build`, and `op` that contain the activities related to materials, manufacturing, and operation, respectively. The keys should be the names of the activities, and the values should be the corresponding indices in the `activities` list. These indices will be used to fill the matrix A with the coefficients of the system."
   ]
  },
  {
   "cell_type": "code",
   "id": "527057930b0162d8",
   "metadata": {},
   "source": [
    "mat = {\n",
    "    k: v for k, v in activities.items() if k in (\n",
    "    \"steel\",\n",
    "    \"concrete\",\n",
    "    \"copper\",\n",
    "    \"glass fibre reinforced plastic\",\n",
    "    \"neodymium\",\n",
    "    \"concrete waste treatment\",\n",
    "    \"glass waste treatment\",\n",
    "    \"silicone\",\n",
    "    \"glass\",\n",
    "    \"aluminium\",\n",
    "    \"silver\",\n",
    "    \"deionized water\",\n",
    "    \"hard coal\",\n",
    "    \"water\",\n",
    "    \"natural gas\",\n",
    "    )\n",
    "}\n",
    "\n",
    "build = {\n",
    "    k: v for k, v in activities.items() if k in (\n",
    "        \"wind turbine (build)\",\n",
    "        \"solar panel (build)\",\n",
    "        \"hard coal power plant (build)\",\n",
    "        \"natural gas power plant (build)\",\n",
    "        \"hydro power plant (build)\",\n",
    "    )\n",
    "}\n",
    "\n",
    "op = {\n",
    "    k: v for k, v in activities.items() if k in (\n",
    "        \"wind turbine (op)\",\n",
    "        \"solar panel (op)\",\n",
    "        \"hard coal power plant (op)\",\n",
    "        \"natural gas power plant (op)\",\n",
    "        \"hydro power plant (op)\",\n",
    "    )\n",
    "}\n",
    "\n",
    "grid = activities[\"grid electricity\"]"
   ],
   "outputs": [],
   "execution_count": null
  },
  {
   "metadata": {},
   "cell_type": "markdown",
   "source": [
    "### Create a dictionary to map direct emissions to indices in the B matrix\n",
    "\n",
    "Create a dictionary called `direct` that maps each direct emission to its index in the B matrix. The index should correspond to the position of the emission in the list of direct emissions."
   ],
   "id": "e7c58b637a5706b"
  },
  {
   "metadata": {},
   "cell_type": "code",
   "source": [
    "direct = {\n",
    "    v: k for k, v in enumerate(\n",
    "        (\n",
    "            \"CO2\",\n",
    "            \"CH4\",\n",
    "            \"N2O\",\n",
    "            \"Tebuconazole\",\n",
    "            \"Mercury\",\n",
    "            \"Antimony\",\n",
    "            \"Water\",\n",
    "            \"PM 2.5\",\n",
    "            \"PM 2.5-10\",\n",
    "            \"PM 10\",\n",
    "        )\n",
    ")\n",
    "}"
   ],
   "id": "6623f1f9ce124e5b",
   "outputs": [],
   "execution_count": null
  },
  {
   "metadata": {},
   "cell_type": "markdown",
   "source": [
    "### Define the lifetime production of each power plant\n",
    "\n",
    "Define the lifetime production of each power plant in kWh. The lifetime production is the total amount of electricity produced by the power plant over its lifetime, as described in the powerplants_data.md file. Store the values in a dictionary called `lifetime_production`, where the keys are the names of the power plants, and the values are the lifetime production in kWh."
   ],
   "id": "b3acd9f77fdf1cb5"
  },
  {
   "metadata": {},
   "cell_type": "code",
   "source": [
    "# Lifetime production for each power plant\n",
    "lifetime_production = {\n",
    "    'wind turbine': 900_000_000 * 20,  # kWh over lifetime\n",
    "    'solar panel': 150_000_000 * 25,    # kWh over lifetime\n",
    "    'coal power plant': 3_500_000_000 * 40,  # kWh over lifetime\n",
    "    'natural gas power plant': 3_500_000_000 * 30,  # kWh over lifetime\n",
    "    'hydro power plant': 4_380_000_000 * 50,  # kWh over lifetime\n",
    "}\n"
   ],
   "id": "3bda16b78d686d12",
   "outputs": [],
   "execution_count": null
  },
  {
   "cell_type": "markdown",
   "id": "d429b74c18f4a2de",
   "metadata": {},
   "source": [
    "### Create a matrix A to represent the system, with ones on the diagonal\n",
    "\n",
    "Create a square matrix A with dimensions equal to the number of activities, using `numpy.identity`. The matrix should have ones on the diagonal and zeros elsewhere. The matrix A will be used to calculate the impact of the system for each activity. Call the matrix `A`."
   ]
  },
  {
   "cell_type": "code",
   "id": "8d66f04e7b1dbd2c",
   "metadata": {},
   "source": [
    "A=np.identity(len(activities))"
   ],
   "outputs": [],
   "execution_count": null
  },
  {
   "cell_type": "markdown",
   "id": "ca67f2e1a74954e2",
   "metadata": {},
   "source": [
    "### Load emission factors and characterization factors\n",
    "\n",
    "Load the emission factors and characterization factors from the files `emission_factors.csv` and `characterization_factors.csv`, respectively. The emission factors contain the direct emissions to the environment for each activity, while the characterization factors contain the impact of these emissions on the environment. Load the data using `numpy.genfromtxt` and store the results in the variables `ef` and `cf`, respectively."
   ]
  },
  {
   "cell_type": "code",
   "id": "bdfc869facb57b78",
   "metadata": {},
   "source": [
    "ef=np.genfromtxt(\n",
    "    'emission_factors.csv',\n",
    "    delimiter=',',\n",
    "    skip_header=1,\n",
    "    usecols=range(3, 13)\n",
    ")"
   ],
   "outputs": [],
   "execution_count": null
  },
  {
   "cell_type": "code",
   "id": "98ee4c7ab5073819",
   "metadata": {},
   "source": [
    "C=np.genfromtxt(\n",
    "    'characterization_factors.csv',\n",
    "    delimiter=',',\n",
    "    skip_header=1,\n",
    "    usecols=range(1, 6),\n",
    "    filling_values=0,\n",
    ")"
   ],
   "outputs": [],
   "execution_count": null
  },
  {
   "cell_type": "markdown",
   "id": "9eb7e1af0990c0d8",
   "metadata": {},
   "source": [
    "### Create a matrix B and include the emission factors\n",
    "\n",
    "Create a matrix B with dimensions equal to the number of activities and the number of direct emissions. Fill the matrix with the emission factors for each activity. The matrix B will be used to calculate the impact of the system for each direct emission. Call the matrix `B`."
   ]
  },
  {
   "cell_type": "code",
   "id": "5c9985071a6cfc03",
   "metadata": {},
   "source": [
    "B=np.zeros((len(activities), ef.shape[1]))"
   ],
   "outputs": [],
   "execution_count": null
  },
  {
   "cell_type": "code",
   "id": "c4d1922d8a557877",
   "metadata": {},
   "source": [
    "B[:ef.shape[0], :]=ef"
   ],
   "outputs": [],
   "execution_count": null
  },
  {
   "cell_type": "markdown",
   "id": "60fb059b940f608c",
   "metadata": {},
   "source": [
    "### Fill the matrix A with instructions contained in powerplants_data.md\n",
    "Input values must be negative, as they represent the consumption of\n",
    "products from other activities. For example, if the manufacturing of a\n",
    "wind turbine consumes 30,000 tons of steel, the corresponding entry in\n",
    "the matrix A should be -30,000. The units of the values in the matrix A\n",
    "should be consistent with the units of the values in the emission factors\n",
    "and characterization factors (e.g., for steel, it is kilograms)."
   ]
  },
  {
   "cell_type": "code",
   "id": "affd4f05742c5d28",
   "metadata": {},
   "source": [
    "# Fill the matrix A\n",
    "# Manufacturing of wind turbine\n",
    "A[mat['steel'], build['wind turbine (build)']] = -30000 * 1000 # tons\n",
    "A[mat['concrete'], build['wind turbine (build)']] = -150000 * 1000 # tons\n",
    "A[mat['copper'], build['wind turbine (build)']] = -1500 * 1000 # tons\n",
    "A[mat['glass fibre reinforced plastic'], build['wind turbine (build)']] = -3000 * 1000 # tons\n",
    "A[mat['neodymium'], build['wind turbine (build)']] = -30 * 1000  # tons\n",
    "A[grid, build['wind turbine (build)']] = -4500 * 1000  # MWh to kWh\n",
    "A[mat['concrete waste treatment'], build['wind turbine (build)']] = -120000 * 1000  # tons\n",
    "A[mat['glass waste treatment'], build['wind turbine (build)']] = -3000 * 1000  # tons\n",
    "\n",
    "# Manufacturing of solar panel\n",
    "A[mat['silicone'], build['solar panel (build)']] = -5000 * 1000  # tons\n",
    "A[mat['glass'], build['solar panel (build)']] = -10000  * 1000 # tons\n",
    "A[mat['aluminium'], build['solar panel (build)']] = -2000  * 1000 # tons\n",
    "A[mat['silver'], build['solar panel (build)']] = -100 * 1000 # tons\n",
    "A[grid, build['solar panel (build)']] = -50000 * 1000  # MWh to kWh\n",
    "\n",
    "# Manufacturing of coal power plant\n",
    "A[mat['steel'], build['hard coal power plant (build)']] = -100000 * 1000 # tons\n",
    "A[mat['concrete'], build['hard coal power plant (build)']] = -250000 * 1000 # tons\n",
    "A[mat['copper'], build['hard coal power plant (build)']] = -1000 * 1000 # tons\n",
    "A[grid, build['hard coal power plant (build)']] = -10000 * 1000 # MWh to kWh\n",
    "\n",
    "# Manufacturing of natural gas power plant\n",
    "A[mat['steel'], build['natural gas power plant (build)']] = -50000 * 1000 # tons\n",
    "A[mat['concrete'], build['natural gas power plant (build)']] = -200000  # tons\n",
    "A[mat['copper'], build['natural gas power plant (build)']] = -1500 * 1000 # tons\n",
    "A[grid, build['natural gas power plant (build)']] = -10000 * 1000 # MWH to kWh\n",
    "\n",
    "# Manufacturing of hydropower plant\n",
    "A[mat['steel'], build['hydro power plant (build)']] = -300000 * 1000 # tons\n",
    "A[mat['concrete'], build['hydro power plant (build)']] = -1000000 * 1000 # tons\n",
    "A[mat['copper'], build['hydro power plant (build)']] = -10000 * 1000 # tons\n",
    "A[grid, build['hydro power plant (build)']] = -30000 * 1000 # MWh to kWh\n",
    "\n",
    "# Operations consuming resources\n",
    "A[mat['water'], op['solar panel (op)']] = -1 * 0.001  # L water/kWh \n",
    "A[mat['hard coal'], op['hard coal power plant (op)']] = -0.3 # kg/kWh\n",
    "A[mat['water'], op['hard coal power plant (op)']] = -2.5  # L/kWh\n",
    "A[mat['natural gas'], op['natural gas power plant (op)']] = -0.15  # m³/kWh\n",
    "A[mat['water'], op['natural gas power plant (op)']] = -1.2  # L/kWh\n",
    "A[mat['water'], op['hydro power plant (op)']] = -2  # L/kWh\n",
    "\n",
    "\n",
    "# Manufacturing input to operation (amortized over lifetime production)\n",
    "A[build['wind turbine (build)'], op['wind turbine (op)']] = -1 / lifetime_production['wind turbine']\n",
    "A[build['solar panel (build)'], op['solar panel (op)']] = -1 / lifetime_production['solar panel']\n",
    "A[build['hard coal power plant (build)'], op['hard coal power plant (op)']] = -1 / lifetime_production['coal power plant']\n",
    "A[build['natural gas power plant (build)'], op['natural gas power plant (op)']] = -1 / lifetime_production['natural gas power plant']\n",
    "A[build['hydro power plant (build)'], op['hydro power plant (op)']] = -1 / lifetime_production['hydro power plant']\n",
    "\n",
    "# Grid electricity\n",
    "A[op['hard coal power plant (op)'], grid] = -0.4\n",
    "A[op['natural gas power plant (op)'], grid] = -0.3\n",
    "A[op['hydro power plant (op)'], grid] = -0.2\n",
    "A[op['wind turbine (op)'], grid] = -0.05\n",
    "A[op['solar panel (op)'], grid] = -0.05\n"
   ],
   "outputs": [],
   "execution_count": null
  },
  {
   "cell_type": "markdown",
   "id": "651a2e098f924e8f",
   "metadata": {},
   "source": [
    "### Fill the matrix B with direct emissions to the environment\n",
    "\n",
    "Fill the matrix B with the direct emissions to the environment for each powerplant. The direct emissions are given in the powerplant_data.md file. The matrix B will be used to calculate the impact of the system for each direct emission."
   ]
  },
  {
   "cell_type": "code",
   "id": "4699846f004188fa",
   "metadata": {},
   "source": [
    "B[op['hard coal power plant (op)'], direct['CO2']]=0.820\n",
    "B[op['natural gas power plant (op)'], direct['CO2']]=0.450\n",
    "B[op['hydro power plant (op)'], direct['CH4']]=0.002"
   ],
   "outputs": [],
   "execution_count": null
  },
  {
   "metadata": {},
   "cell_type": "markdown",
   "source": [
    "### Calculate the impact of the system, per technology and store the results in a list\n",
    "\n",
    "$$\n",
    "  A \\cdot x = f\n",
    "$$\n",
    "\n",
    "\n",
    "  - $A$ is the **technology matrix**: a matrix that describes the relationship between processes in the system. Each element $ A_{ij} $ represents how much of product $ i $ is required to produce one unit of product $ j $.\n",
    "  - $x$ is the **process vector**: the quantity of each process required to fulfill the functional unit.\n",
    "  - $f$ is the **functional unit vector**, which typically defines the demand for the system output (e.g., how much of the functional unit needs to be produced).\n",
    "\n",
    "- To solve for $x$, you may use `numpy.linalg.solve`.\n",
    "\n",
    "- Once $x$ is determined, you can calculate the total environmental flows (inputs/outputs of the entire system).\n",
    "\n",
    "### Environmental Flow Calculation\n",
    "\n",
    "- The **inventory vector** $g$ is calculated as:\n",
    "\n",
    "  $$\n",
    "  g = B \\cdot x\n",
    "  $$\n",
    "\n",
    "  - $ B $ is the **flow matrix**: it contains the environmental flows (e.g., energy, materials, emissions) for each process.\n",
    "  - $ g $ is the vector of cumulative environmental flows (e.g., total emissions) over the entire life cycle.\n",
    "\n",
    "You will need ensure that the shapes of the matrices allow proper broadcasting and matrix multiplication. You may need to transpose matrices or reshape vectors to ensure the correct shapes for multiplication.\n",
    "\n",
    "\n",
    "### Life Cycle Impact Assessment (LCIA)\n",
    "The LCIA phase involves translating the results of the LCI (i.e., the inventory of environmental flows) into potential environmental impacts. This requires the use of characterization factors to translate individual environmental flows into impact categories (e.g., climate change, ozone depletion, human toxicity).\n",
    "\n",
    "\n",
    "The environmental impact is calculated using characterization factors:\n",
    "$$\n",
    "I=C⋅g\n",
    "$$\n",
    "\n",
    "- $C$ is the **characterization matrix**: a matrix that contains the characterization factors for each environmental flow and impact category.\n",
    "- $I$ is the **impact vector**: the impact of the system on each impact category.\n",
    "- $g$ is the **inventory vector**: the environmental flows (inputs/outputs) of the entire system.\n"
   ],
   "id": "aef9a79b9c91de6"
  },
  {
   "cell_type": "code",
   "id": "aad28eaa394254e1",
   "metadata": {},
   "source": [
    "scores = []\n",
    "technologies = [\n",
    "    \"wind turbine (op)\",\n",
    "    \"solar panel (op)\",\n",
    "    \"hard coal power plant (op)\",\n",
    "    \"natural gas power plant (op)\",\n",
    "    \"hydro power plant (op)\",\n",
    "    \"grid electricity\",\n",
    "]\n",
    "for technology in technologies:\n",
    "    f=np.zeros(len(activities))\n",
    "    f[activities[technology]]=1\n",
    "    x = np.linalg.solve(A, f)\n",
    "    g = x*B.T\n",
    "    I=(g.T@C)\n",
    "    scores.append(I)"
   ],
   "outputs": [],
   "execution_count": null
  },
  {
   "cell_type": "code",
   "id": "f1e159718d12ba5a",
   "metadata": {},
   "source": [
    "# Turn the list into a numpy array"
   ],
   "outputs": [],
   "execution_count": null
  },
  {
   "cell_type": "code",
   "id": "db9f376c9d31666e",
   "metadata": {},
   "source": [
    "scores=np.stack(scores)"
   ],
   "outputs": [],
   "execution_count": null
  },
  {
   "cell_type": "code",
   "id": "487eb4fd6cd7e539",
   "metadata": {},
   "source": [
    "scores.shape"
   ],
   "outputs": [],
   "execution_count": null
  },
  {
   "cell_type": "code",
   "id": "798bf70b4e8c8ae6",
   "metadata": {},
   "source": [
    "indicators = [\n",
    "    \"Climate change\",\n",
    "    \"Human toxicity\",\n",
    "    \"Metals\",\n",
    "    \"Water\",\n",
    "    \"Fine particle\"\n",
    "]\n",
    "units = [\n",
    "    \"kg CO2 eq\",\n",
    "    \"CTUh\",\n",
    "    \"kg antimony eq\",\n",
    "    \"m3 water\",\n",
    "    \"kg PM 2.5 eq\"\n",
    "]"
   ],
   "outputs": [],
   "execution_count": null
  },
  {
   "cell_type": "code",
   "id": "6d52dbadb9aa047f",
   "metadata": {},
   "source": [
    "activities_colors = {\n",
    "    \"steel\": \"tab:red\",\n",
    "    \"concrete\": \"tab:red\",\n",
    "    \"copper\": \"tab:red\",\n",
    "    \"glass fibre reinforced plastic\": \"tab:red\",\n",
    "    \"neodymium\": \"tab:red\",\n",
    "    \"silicone\": \"tab:red\",\n",
    "    \"glass\": \"tab:red\",\n",
    "    \"aluminium\": \"tab:red\",\n",
    "    \"silver\": \"tab:red\",\n",
    "    \"deionized water\": \"tab:red\",\n",
    "    \"water\": \"tab:red\",\n",
    "    \"hard coal\": \"tab:orange\",\n",
    "    \"natural gas\": \"tab:orange\",\n",
    "    \"concrete waste treatment\": \"tab:blue\",\n",
    "    \"glass waste treatment\": \"tab:blue\",\n",
    "    'wind turbine (build)': \"tab:brown\",\n",
    "    'solar panel (build)': \"tab:brown\",\n",
    "    'hard coal power plant (build)': \"tab:brown\",\n",
    "    'natural gas power plant (build)': \"tab:brown\",\n",
    "    'hydro power plant (build)': \"tab:brown\",\n",
    "    \"wind turbine (op)\": \"tab:brown\",\n",
    "    \"solar panel (op)\": \"tab:gray\",\n",
    "    \"hard coal power plant (op)\": \"tab:gray\",\n",
    "    \"natural gas power plant (op)\": \"tab:gray\",\n",
    "    \"hydro power plant (op)\": \"tab:gray\",\n",
    "    \"grid electricity\": \"tab:gray\",\n",
    "}"
   ],
   "outputs": [],
   "execution_count": null
  },
  {
   "cell_type": "markdown",
   "id": "62d8c882aca7fa5e",
   "metadata": {},
   "source": [
    "### Plot the results in stacked bar charts\n"
   ]
  },
  {
   "cell_type": "code",
   "id": "54c44c4f30cec89f",
   "metadata": {},
   "source": [
    "import matplotlib\n",
    "\n",
    "colors = matplotlib.colormaps.get_cmap('tab20b', )\n",
    "# Number of plots and bars\n",
    "num_plots = scores.shape[2]  # 5 plots\n",
    "num_bars = scores.shape[0]   # 6 bars per plot\n",
    "\n",
    "# Create the figure and a 3x2 grid of subplots\n",
    "fig, axes = plt.subplots(nrows=3, ncols=2, figsize=(10, 12))\n",
    "\n",
    "# Flatten the axes array for easier iteration\n",
    "axes = axes.flatten()\n",
    "\n",
    "# Plot stacked bars for each plot\n",
    "for i in range(num_plots):\n",
    "    ax = axes[i]  # Access individual subplot\n",
    "    bottom = np.zeros(num_bars)  # Start bottom at zero for stacking\n",
    "\n",
    "    pd.DataFrame(scores[..., i], index=technologies).plot(\n",
    "        kind=\"bar\", stacked=True, ax=ax, \n",
    "        color=[activities_colors[activity] for activity in activities],\n",
    "        legend=False, bottom=bottom,\n",
    "    )\n",
    "\n",
    "    ax.set_title(f'{indicators[i]}')\n",
    "    ax.set_ylabel(units[i])\n",
    "    if i not in (3, 4):\n",
    "        ax.set_xticklabels([])\n",
    "    ax.set_ylim(0, max(scores[:, :, i].sum(0)) * 1.1)  # Set y-axis limit to max value\n",
    "    ax.legend().remove()\n",
    "    \n",
    "\n",
    "\n",
    "axes[-1].axis('off')\n",
    "# add custom legend\n",
    "handles = [\"material\", \"energy\", \"EoL\", \"plant\", \"direct emissions\"]\n",
    "colors = [\"tab:red\", \"tab:orange\", \"tab:blue\", \"tab:brown\", \"tab:gray\"]\n",
    "labels = [\"material\", \"energy\", \"EoL\", \"plant\", \"direct emissions\"]\n",
    "legend = [plt.Line2D([0], [0], color=colors[i], lw=4, label=labels[i]) for i in range(5)]\n",
    "axes[-1].legend(handles=legend, loc='lower center', title='Legend', title_fontsize='large', fontsize='large', frameon=False, ncol=2)\n",
    "\n",
    "# Adjust layout and display the plot\n",
    "#plt.tight_layout()\n",
    "plt.show()"
   ],
   "outputs": [],
   "execution_count": null
  },
  {
   "cell_type": "markdown",
   "id": "3463a8fa2d500eef",
   "metadata": {},
   "source": [
    "# Exercise 2 - Apply LCA to scenarios\n",
    "\n",
    "In this exercise, we will apply the life cycle assessment (LCA) method\n",
    " developed above to different scenarios of electricity production.\n",
    " \n",
    "The scenarios are described in scenarios.md, and their corresponding mix is as follows:\n",
    "\n",
    "\n",
    "In the baseline scenario, the grid slowly transitions toward renewables, but fossil fuels (coal and natural gas) continue to play a major role up to 2050. There is no nuclear energy contribution.\n",
    "\n",
    "\n",
    "| Year  | Coal (%) | Natural Gas (%) | Hydro (%) | Wind (%) | Solar (%) | Total Renewables (%) |\n",
    "|-------|----------|-----------------|-----------|----------|-----------|----------------------|\n",
    "| 2020  | 35       | 30              | 7         | 5        | 4         | 16                   |\n",
    "| 2025  | 33       | 31              | 7         | 7        | 5         | 19                   |\n",
    "| 2030  | 30       | 31              | 7         | 10       | 7         | 24                   |\n",
    "| 2035  | 28       | 30              | 7         | 13       | 9         | 29                   |\n",
    "| 2040  | 25       | 28              | 7         | 15       | 11        | 33                   |\n",
    "| 2045  | 20       | 25              | 7         | 18       | 14        | 39                   |\n",
    "| 2050  | 15       | 22              | 7         | 20       | 16        | 43                   |\n",
    "\n",
    "\n",
    "In the net-zero scenario, the country rapidly transitions to a fully decarbonized grid, with a strong emphasis on wind, solar, and hydro, and the complete elimination of fossil fuels by 2050.\n",
    "\n",
    "| Year  | Coal (%) | Natural Gas (%) | Hydro (%) | Wind (%) | Solar (%) | Total Renewables (%) |\n",
    "|-------|----------|-----------------|-----------|----------|-----------|----------------------|\n",
    "| 2020  | 35       | 30              | 7         | 5        | 4         | 16                   |\n",
    "| 2025  | 20       | 25              | 7         | 12       | 9         | 28                   |\n",
    "| 2030  | 10       | 20              | 8         | 20       | 15        | 43                   |\n",
    "| 2035  | 5        | 15              | 8         | 25       | 20        | 53                   |\n",
    "| 2040  | 2        | 10              | 8         | 30       | 25        | 63                   |\n",
    "| 2045  | 1        | 5               | 8         | 35       | 30        | 73                   |\n",
    "| 2050  | 0        | 0               | 8         | 40       | 35        | 83                   |\n",
    "\n",
    "\n",
    "Describe the evolution of the environmental impact of the electricity production system in the two scenarios. Present the results in stacked bar charts, with each bar representing the contribution of different activities to the total impact in each category. Describe the differences between the two scenarios and discuss the implications of the results.\n"
   ]
  },
  {
   "cell_type": "code",
   "id": "c38e51432a6f6770",
   "metadata": {},
   "source": [
    "scenarios = {\n",
    "    \"baseline\": {\n",
    "        2020: [0.35, 0.30, 0.07, 0.05, 0.04],\n",
    "        2025: [0.33, 0.31, 0.07, 0.07, 0.05],\n",
    "        2030: [0.30, 0.31, 0.07, 0.10, 0.07],\n",
    "        2035: [0.28, 0.30, 0.07, 0.13, 0.09],\n",
    "        2040: [0.25, 0.28, 0.07, 0.15, 0.11],\n",
    "        2045: [0.20, 0.25, 0.07, 0.18, 0.14],\n",
    "        2050: [0.15, 0.22, 0.07, 0.20, 0.16],\n",
    "    },\n",
    "    \"net-zero\": {\n",
    "        2020: [0.35, 0.30, 0.07, 0.05, 0.04],\n",
    "        2025: [0.20, 0.25, 0.07, 0.12, 0.09],\n",
    "        2030: [0.10, 0.20, 0.08, 0.20, 0.15],\n",
    "        2035: [0.05, 0.15, 0.08, 0.25, 0.20],\n",
    "        2040: [0.02, 0.10, 0.08, 0.30, 0.25],\n",
    "        2045: [0.01, 0.05, 0.08, 0.35, 0.30],\n",
    "        2050: [0.00, 0.00, 0.08, 0.40, 0.35],\n",
    "    },\n",
    "}"
   ],
   "outputs": [],
   "execution_count": null
  },
  {
   "cell_type": "markdown",
   "id": "51eb201a2889c3e7",
   "metadata": {},
   "source": [
    "### Modify the matrix A to reflect the new scenarios\n",
    "\n",
    "Calculate the impact of the system for each scenario for each year and store the results in a list."
   ]
  },
  {
   "cell_type": "code",
   "id": "fae1a4ccc0ec4aa4",
   "metadata": {},
   "source": [
    "scores = []\n",
    "\n",
    "for scenario, values in scenarios.items():\n",
    "    for year in range(2020, 2051, 5):\n",
    "        A[op['hard coal power plant (op)'], grid] = -values[year][0]\n",
    "        A[op['natural gas power plant (op)'], grid] = -values[year][1]\n",
    "        A[op['hydro power plant (op)'], grid] = -values[year][2]\n",
    "        A[op['wind turbine (op)'], grid] = -values[year][3]\n",
    "        A[op['solar panel (op)'], grid] = -values[year][4]\n",
    "        \n",
    "        f=np.zeros(len(activities))\n",
    "        f[activities[\"grid electricity\"]]=1\n",
    "        A_inv = np.linalg.solve(A, f)\n",
    "        C = A_inv*B.T\n",
    "        D=(C.T@cf)\n",
    "        for a, activity in enumerate(activities):\n",
    "            for i, indicator in enumerate(indicators):\n",
    "                scores.append(\n",
    "                    [scenario, year, activity, indicator, D[a, i]])\n",
    "        \n",
    "        "
   ],
   "outputs": [],
   "execution_count": null
  },
  {
   "cell_type": "markdown",
   "id": "a35ea239caad930e",
   "metadata": {},
   "source": [
    "### Store the results in a pandas DataFrame and plot the results in stacked bar charts"
   ]
  },
  {
   "cell_type": "code",
   "id": "b3d7767c27abcf57",
   "metadata": {},
   "source": [
    "scores = pd.DataFrame(scores, columns=[\"scenario\", \"year\", \"activity\", \"indicator\", \"score\"])"
   ],
   "outputs": [],
   "execution_count": null
  },
  {
   "cell_type": "code",
   "id": "cb7c8395e0331646",
   "metadata": {},
   "source": [
    "# for readability, replace activity names with categories\n",
    "scores.replace(\n",
    "    {\n",
    "        \"steel\": \"material\",\n",
    "        \"concrete\": \"material\",\n",
    "        \"copper\": \"material\",\n",
    "        \"glass fibre reinforced plastic\": \"material\",\n",
    "        \"neodymium\": \"material\",\n",
    "        \"silicone\": \"material\",\n",
    "        \"glass\": \"material\",\n",
    "        \"aluminium\": \"material\",\n",
    "        \"silver\": \"material\",\n",
    "        \"deionized water\": \"material\",\n",
    "        \"water\": \"material\",\n",
    "        \"hard coal\": \"energy\",\n",
    "        \"natural gas\": \"energy\",\n",
    "        \"concrete waste treatment\": \"EoL\",\n",
    "        \"glass waste treatment\": \"EoL\",\n",
    "        'wind turbine (build)': \"plant\",\n",
    "        'solar panel (build)': \"plant\",\n",
    "        'hard coal power plant (build)': \"plant\",\n",
    "        'natural gas power plant (build)': \"plant\",\n",
    "        'hydro power plant (build)': \"plant\",\n",
    "        \"wind turbine (op)\": \"direct emissions\",\n",
    "        \"solar panel (op)\": \"direct emissions\",\n",
    "        \"hard coal power plant (op)\": \"direct emissions\",\n",
    "        \"natural gas power plant (op)\": \"direct emissions\",\n",
    "        \"hydro power plant (op)\": \"direct emissions\",\n",
    "        \"grid electricity\": \"other\",\n",
    "    },\n",
    "    inplace=True,\n",
    ")\n",
    "\n",
    "scores = scores.groupby([\"scenario\", \"year\", \"activity\", \"indicator\"]).sum().reset_index()\n",
    "\n",
    "activities_colors = {\n",
    "    \"material\": \"tab:red\",\n",
    "    \"energy\": \"tab:orange\",\n",
    "    'plant': \"tab:brown\",\n",
    "    \"EoL\": \"tab:blue\",\n",
    "    \"direct emissions\": \"tab:gray\",\n",
    "    \"other\": \"tab:gray\",\n",
    "}"
   ],
   "outputs": [],
   "execution_count": null
  },
  {
   "cell_type": "code",
   "id": "640a4a3d8bd42ebf",
   "metadata": {},
   "source": [
    "# Set up the figure and axis for the 2x3 grid\n",
    "fig, axes = plt.subplots(3, 2, figsize=(10, 10), sharex=False)\n",
    "fig.tight_layout(pad=5.0)\n",
    "\n",
    "axes = axes.flatten()\n",
    "\n",
    "# Loop over the indicators and create one plot for each\n",
    "for i, indicator in enumerate(indicators):\n",
    "    ax = axes[i]  # Access individual subplot\n",
    "\n",
    "    pivot_data = scores.loc[scores['indicator'] == indicator].pivot(index='year', columns=['scenario', 'activity'], values='score')\n",
    "    \n",
    "    # Stacked bar plot for each scenario and year\n",
    "    years = pivot_data.index\n",
    "    scenarios = pivot_data.columns.levels[0]\n",
    "    activities = pivot_data.columns.levels[1]\n",
    "    \n",
    "    width = 0.8  # Set the width of bars\n",
    "    for j, scenario in enumerate(scenarios):\n",
    "        bottom = pd.Series(0, index=years)\n",
    "        for activity in activities:\n",
    "            ax.bar(years + (j * width), pivot_data[(scenario, activity)], width=width, bottom=bottom, label=activity if j == 0 else \"\", color=activities_colors[activity])\n",
    "            bottom += pivot_data[(scenario, activity)]\n",
    "\n",
    "    ax.set_title(indicator)\n",
    "    ax.set_ylabel(units[i])\n",
    "    \n",
    "    if i not in (3, 4, 5):\n",
    "        ax.set_xticklabels([])\n",
    "    else:\n",
    "        ax.set_xticks(range(2020, 2051, 5))\n",
    "        ax.set_xticklabels(years)\n",
    "        \n",
    "    ax.legend().remove()\n",
    "\n",
    "# Remove the last empty plot\n",
    "axes[-1].axis('off')\n",
    "# add custom legend\n",
    "handles = [\"material\", \"energy\", \"EoL\", \"plant\", \"direct emissions\"]\n",
    "colors = [\"tab:red\", \"tab:orange\", \"tab:blue\", \"tab:brown\", \"tab:gray\"]\n",
    "labels = [\"material\", \"energy\", \"EoL\", \"plant\", \"direct emissions\"]\n",
    "legend = [plt.Line2D([0], [0], color=colors[i], lw=4, label=labels[i]) for i in range(5)]\n",
    "axes[-1].legend(handles=legend, loc='lower center', title='Legend', title_fontsize='large', fontsize='large', frameon=False, ncol=2)\n",
    "\n",
    "\n",
    "# Show the figure\n",
    "plt.show()\n"
   ],
   "outputs": [],
   "execution_count": null
  },
  {
   "cell_type": "markdown",
   "id": "53b215161ac7123e",
   "metadata": {},
   "source": [
    "### Answer the following questions.\n",
    "\n",
    "1. Does the Net Zero scenario achieve net domestic emissions of zero by 2050? Are there residual emissions in the system? If so, what are the main sources of these emissions?\n",
    "\n",
    "2. Can you identify trade-offs in the Net Zero scenario?"
   ]
  },
  {
   "cell_type": "markdown",
   "id": "56abc75eafae3268",
   "metadata": {},
   "source": []
  },
  {
   "cell_type": "markdown",
   "id": "17b508685a09d548",
   "metadata": {},
   "source": []
  }
 ],
 "metadata": {
  "kernelspec": {
   "display_name": "Python 3 (ipykernel)",
   "language": "python",
   "name": "python3"
  },
  "language_info": {
   "codemirror_mode": {
    "name": "ipython",
    "version": 3
   },
   "file_extension": ".py",
   "mimetype": "text/x-python",
   "name": "python",
   "nbconvert_exporter": "python",
   "pygments_lexer": "ipython3",
   "version": "3.10.0"
  }
 },
 "nbformat": 4,
 "nbformat_minor": 5
}
