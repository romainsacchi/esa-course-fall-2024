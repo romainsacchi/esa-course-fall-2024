{
 "cells": [
  {
   "cell_type": "code",
   "id": "initial_id",
   "metadata": {
    "collapsed": true,
    "jupyter": {
     "outputs_hidden": true
    }
   },
   "source": [
    "import numpy as np # <-- Import numpy to use arrays\n",
    "import pandas as pd # <-- Import pandas to use dataframes\n",
    "import matplotlib.pyplot as plt # <-- Import matplotlib to plot data"
   ],
   "outputs": [],
   "execution_count": null
  },
  {
   "cell_type": "markdown",
   "id": "5f2f57e19b0cd7e8",
   "metadata": {},
   "source": [
    "# Exercise 1 - Life cycle assessment of current electricity production\n",
    "\n",
    "In this exercise, we will calculate the environmental impact of the current electricity production in a fictious country. We will consider the manufacturing and operation of different power plants, as well as the manufacturing of wind turbines and solar panels. We will also consider the treatment of waste from the manufacturing of these products. The environmental impact will be calculated using the ReCiPe method, which includes the following impact categories:\n",
    "\n",
    "- Climate change\n",
    "- Human toxicity\n",
    "- Metals\n",
    "- Water\n",
    "- Fine particles emissions\n",
    "\n",
    "The environmental impact will be calculated per unit of electricity produced by each technology. The results will be presented in stacked bar charts, with each bar representing the contribution of different activities to the total impact in each category."
   ]
  },
  {
   "cell_type": "markdown",
   "id": "7847ea53435b86f",
   "metadata": {},
   "source": [
    "### List of activities in the system (can also be found in emission_factors.csv)\n",
    "\n",
    "Make a list called `activities` with the activities found in emission_factors.csv."
   ]
  },
  {
   "cell_type": "code",
   "id": "2da05d5d7f0cf5ee",
   "metadata": {},
   "source": "",
   "outputs": [],
   "execution_count": null
  },
  {
   "cell_type": "markdown",
   "id": "ce3977532c16183",
   "metadata": {},
   "source": [
    "## Add activities for manufacturing and operation of power plants\n",
    "\n",
    "Add activities for the manufacturing and operation of the following power plants:\n",
    "\n",
    "- Wind turbine\n",
    "- Solar panel\n",
    "- Hard coal power plant\n",
    "- Natural gas power plant\n",
    "- Hydropower plant"
   ]
  },
  {
   "cell_type": "code",
   "id": "e978a8a78232ee61",
   "metadata": {},
   "source": "",
   "outputs": [],
   "execution_count": null
  },
  {
   "cell_type": "markdown",
   "id": "14815dbc338fe105",
   "metadata": {},
   "source": [
    "### Add activity for grid electricity\n",
    "\n",
    "Add an activity for grid electricity to account for the environmental impact of the electricity consumed by the power plants during operation. Call it \"grid electricity\"."
   ]
  },
  {
   "cell_type": "code",
   "id": "f0ca3fcfbe7e801d",
   "metadata": {},
   "source": "",
   "outputs": [],
   "execution_count": null
  },
  {
   "cell_type": "markdown",
   "id": "7197c96f31ca0ac4",
   "metadata": {},
   "source": [
    "### Create a dictionary to map activities to indices in the matrix\n",
    "\n",
    "Create a dictionary called `activities` that maps each activity to its index in the matrix. The index should correspond to the position of the activity in the `activities` list."
   ]
  },
  {
   "cell_type": "code",
   "id": "8d2ed926caf67915",
   "metadata": {},
   "source": "",
   "outputs": [],
   "execution_count": null
  },
  {
   "cell_type": "markdown",
   "id": "835716f317edf746",
   "metadata": {},
   "source": [
    "### For convenience, we create smaller dictionary for each type of activity\n",
    "\n",
    "Create three dictionaries called `mat`, `build`, and `op` that contain the activities related to materials, manufacturing, and operation, respectively. The keys should be the names of the activities, and the values should be the corresponding indices in the `activities` list. These indices will be used to fill the matrix A with the coefficients of the system."
   ]
  },
  {
   "cell_type": "code",
   "id": "527057930b0162d8",
   "metadata": {},
   "source": "",
   "outputs": [],
   "execution_count": null
  },
  {
   "metadata": {},
   "cell_type": "markdown",
   "source": [
    "### Create a dictionary to map direct emissions to indices in the B matrix\n",
    "\n",
    "Create a dictionary called `direct` that maps each direct emission to its index in the B matrix. The index should correspond to the position of the emission in the list of direct emissions."
   ],
   "id": "e7c58b637a5706b"
  },
  {
   "metadata": {},
   "cell_type": "code",
   "source": "",
   "id": "6623f1f9ce124e5b",
   "outputs": [],
   "execution_count": null
  },
  {
   "metadata": {},
   "cell_type": "markdown",
   "source": [
    "### Define the lifetime production of each power plant\n",
    "\n",
    "Define the lifetime production of each power plant in kWh. The lifetime production is the total amount of electricity produced by the power plant over its lifetime, as described in the powerplants_data.md file. Store the values in a dictionary called `lifetime_production`, where the keys are the names of the power plants, and the values are the lifetime production in kWh."
   ],
   "id": "b3acd9f77fdf1cb5"
  },
  {
   "metadata": {},
   "cell_type": "code",
   "source": "",
   "id": "3bda16b78d686d12",
   "outputs": [],
   "execution_count": null
  },
  {
   "cell_type": "markdown",
   "id": "d429b74c18f4a2de",
   "metadata": {},
   "source": [
    "### Create a matrix A to represent the system, with ones on the diagonal\n",
    "\n",
    "Create a square matrix A with dimensions equal to the number of activities, using `numpy.identity`. The matrix should have ones on the diagonal and zeros elsewhere. The matrix A will be used to calculate the impact of the system for each activity. Call the matrix `A`."
   ]
  },
  {
   "cell_type": "code",
   "id": "8d66f04e7b1dbd2c",
   "metadata": {},
   "source": "",
   "outputs": [],
   "execution_count": null
  },
  {
   "cell_type": "markdown",
   "id": "ca67f2e1a74954e2",
   "metadata": {},
   "source": [
    "### Load emission factors and characterization factors\n",
    "\n",
    "Load the emission factors and characterization factors from the files `emission_factors.csv` and `characterization_factors.csv`, respectively. The emission factors contain the direct emissions to the environment for each activity, while the characterization factors contain the impact of these emissions on the environment. Load the data using `numpy.genfromtxt` and store the results in the variables `ef` and `cf`, respectively."
   ]
  },
  {
   "cell_type": "code",
   "id": "bdfc869facb57b78",
   "metadata": {},
   "source": [
    "ef=np.genfromtxt(\n",
    "    'emission_factors.csv',\n",
    "    delimiter=',',\n",
    "    skip_header=1,\n",
    "    usecols=range(3, 13)\n",
    ")"
   ],
   "outputs": [],
   "execution_count": null
  },
  {
   "cell_type": "code",
   "id": "98ee4c7ab5073819",
   "metadata": {},
   "source": [
    "C=np.genfromtxt(\n",
    "    'characterization_factors.csv',\n",
    "    delimiter=',',\n",
    "    skip_header=1,\n",
    "    usecols=range(1, 6),\n",
    "    filling_values=0,\n",
    ")"
   ],
   "outputs": [],
   "execution_count": null
  },
  {
   "cell_type": "markdown",
   "id": "9eb7e1af0990c0d8",
   "metadata": {},
   "source": [
    "### Create a matrix B and include the emission factors\n",
    "\n",
    "Create a matrix B with dimensions equal to the number of activities and the number of direct emissions. Fill the matrix with the emission factors for each activity. The matrix B will be used to calculate the impact of the system for each direct emission. Call the matrix `B`."
   ]
  },
  {
   "cell_type": "code",
   "id": "5c9985071a6cfc03",
   "metadata": {},
   "source": "",
   "outputs": [],
   "execution_count": null
  },
  {
   "cell_type": "code",
   "id": "c4d1922d8a557877",
   "metadata": {},
   "source": "",
   "outputs": [],
   "execution_count": null
  },
  {
   "cell_type": "markdown",
   "id": "60fb059b940f608c",
   "metadata": {},
   "source": [
    "### Fill the matrix A with instructions contained in powerplants_data.md\n",
    "Input values must be negative, as they represent the consumption of\n",
    "products from other activities. For example, if the manufacturing of a\n",
    "wind turbine consumes 30,000 tons of steel, the corresponding entry in\n",
    "the matrix A should be -30,000. The units of the values in the matrix A\n",
    "should be consistent with the units of the values in the emission factors\n",
    "and characterization factors (e.g., for steel, it is kilograms)."
   ]
  },
  {
   "cell_type": "code",
   "id": "affd4f05742c5d28",
   "metadata": {},
   "source": "",
   "outputs": [],
   "execution_count": null
  },
  {
   "cell_type": "markdown",
   "id": "651a2e098f924e8f",
   "metadata": {},
   "source": [
    "### Fill the matrix B with direct emissions to the environment\n",
    "\n",
    "Fill the matrix B with the direct emissions to the environment for each powerplant. The direct emissions are given in the powerplant_data.md file. The matrix B will be used to calculate the impact of the system for each direct emission."
   ]
  },
  {
   "cell_type": "code",
   "id": "4699846f004188fa",
   "metadata": {},
   "source": "",
   "outputs": [],
   "execution_count": null
  },
  {
   "metadata": {},
   "cell_type": "markdown",
   "source": [
    "### Calculate the impact of the system, per technology and store the results in a list\n",
    "\n",
    "$$\n",
    "  A \\cdot x = f\n",
    "$$\n",
    "\n",
    "\n",
    "  - $A$ is the **technology matrix**: a matrix that describes the relationship between processes in the system. Each element $ A_{ij} $ represents how much of product $ i $ is required to produce one unit of product $ j $.\n",
    "  - $x$ is the **process vector**: the quantity of each process required to fulfill the functional unit.\n",
    "  - $f$ is the **functional unit vector**, which typically defines the demand for the system output (e.g., how much of the functional unit needs to be produced).\n",
    "\n",
    "- To solve for $x$, you may use `numpy.linalg.solve`.\n",
    "\n",
    "- Once $x$ is determined, you can calculate the total environmental flows (inputs/outputs of the entire system).\n",
    "\n",
    "### Environmental Flow Calculation\n",
    "\n",
    "- The **inventory vector** $g$ is calculated as:\n",
    "\n",
    "  $$\n",
    "  g = B \\cdot x\n",
    "  $$\n",
    "\n",
    "  - $ B $ is the **flow matrix**: it contains the environmental flows (e.g., energy, materials, emissions) for each process.\n",
    "  - $ g $ is the vector of cumulative environmental flows (e.g., total emissions) over the entire life cycle.\n",
    "\n",
    "You will need ensure that the shapes of the matrices allow proper broadcasting and matrix multiplication. You may need to transpose matrices or reshape vectors to ensure the correct shapes for multiplication.\n",
    "\n",
    "\n",
    "### Life Cycle Impact Assessment (LCIA)\n",
    "The LCIA phase involves translating the results of the LCI (i.e., the inventory of environmental flows) into potential environmental impacts. This requires the use of characterization factors to translate individual environmental flows into impact categories (e.g., climate change, ozone depletion, human toxicity).\n",
    "\n",
    "\n",
    "The environmental impact is calculated using characterization factors:\n",
    "$$\n",
    "I=C⋅g\n",
    "$$\n",
    "\n",
    "- $C$ is the **characterization matrix**: a matrix that contains the characterization factors for each environmental flow and impact category.\n",
    "- $I$ is the **impact vector**: the impact of the system on each impact category.\n",
    "- $g$ is the **inventory vector**: the environmental flows (inputs/outputs) of the entire system.\n"
   ],
   "id": "aef9a79b9c91de6"
  },
  {
   "cell_type": "code",
   "id": "aad28eaa394254e1",
   "metadata": {},
   "source": "",
   "outputs": [],
   "execution_count": null
  },
  {
   "cell_type": "code",
   "id": "f1e159718d12ba5a",
   "metadata": {},
   "source": "",
   "outputs": [],
   "execution_count": null
  },
  {
   "cell_type": "code",
   "id": "db9f376c9d31666e",
   "metadata": {},
   "source": "",
   "outputs": [],
   "execution_count": null
  },
  {
   "cell_type": "code",
   "id": "487eb4fd6cd7e539",
   "metadata": {},
   "source": "",
   "outputs": [],
   "execution_count": null
  },
  {
   "cell_type": "code",
   "id": "798bf70b4e8c8ae6",
   "metadata": {},
   "source": [
    "indicators = [\n",
    "    \"Climate change\",\n",
    "    \"Human toxicity\",\n",
    "    \"Metals\",\n",
    "    \"Water\",\n",
    "    \"Fine particle\"\n",
    "]\n",
    "units = [\n",
    "    \"kg CO2 eq\",\n",
    "    \"CTUh\",\n",
    "    \"kg antimony eq\",\n",
    "    \"m3 water\",\n",
    "    \"kg PM 2.5 eq\"\n",
    "]"
   ],
   "outputs": [],
   "execution_count": null
  },
  {
   "cell_type": "code",
   "id": "6d52dbadb9aa047f",
   "metadata": {},
   "source": [
    "activities_colors = {\n",
    "    \"steel\": \"tab:red\",\n",
    "    \"concrete\": \"tab:red\",\n",
    "    \"copper\": \"tab:red\",\n",
    "    \"glass fibre reinforced plastic\": \"tab:red\",\n",
    "    \"neodymium\": \"tab:red\",\n",
    "    \"silicone\": \"tab:red\",\n",
    "    \"glass\": \"tab:red\",\n",
    "    \"aluminium\": \"tab:red\",\n",
    "    \"silver\": \"tab:red\",\n",
    "    \"deionized water\": \"tab:red\",\n",
    "    \"water\": \"tab:red\",\n",
    "    \"hard coal\": \"tab:orange\",\n",
    "    \"natural gas\": \"tab:orange\",\n",
    "    \"concrete waste treatment\": \"tab:blue\",\n",
    "    \"glass waste treatment\": \"tab:blue\",\n",
    "    'wind turbine (build)': \"tab:brown\",\n",
    "    'solar panel (build)': \"tab:brown\",\n",
    "    'hard coal power plant (build)': \"tab:brown\",\n",
    "    'natural gas power plant (build)': \"tab:brown\",\n",
    "    'hydro power plant (build)': \"tab:brown\",\n",
    "    \"wind turbine (op)\": \"tab:brown\",\n",
    "    \"solar panel (op)\": \"tab:gray\",\n",
    "    \"hard coal power plant (op)\": \"tab:gray\",\n",
    "    \"natural gas power plant (op)\": \"tab:gray\",\n",
    "    \"hydro power plant (op)\": \"tab:gray\",\n",
    "    \"grid electricity\": \"tab:gray\",\n",
    "}"
   ],
   "outputs": [],
   "execution_count": null
  },
  {
   "cell_type": "markdown",
   "id": "62d8c882aca7fa5e",
   "metadata": {},
   "source": [
    "### Plot the results in stacked bar charts\n"
   ]
  },
  {
   "cell_type": "code",
   "id": "54c44c4f30cec89f",
   "metadata": {},
   "source": "",
   "outputs": [],
   "execution_count": null
  },
  {
   "cell_type": "markdown",
   "id": "3463a8fa2d500eef",
   "metadata": {},
   "source": [
    "# Exercise 2 - Apply LCA to scenarios\n",
    "\n",
    "In this exercise, we will apply the life cycle assessment (LCA) method\n",
    " developed above to different scenarios of electricity production.\n",
    " \n",
    "The scenarios are described in scenarios.md, and their corresponding mix is as follows:\n",
    "\n",
    "\n",
    "In the baseline scenario, the grid slowly transitions toward renewables, but fossil fuels (coal and natural gas) continue to play a major role up to 2050. There is no nuclear energy contribution.\n",
    "\n",
    "\n",
    "| Year  | Coal (%) | Natural Gas (%) | Hydro (%) | Wind (%) | Solar (%) | Total Renewables (%) |\n",
    "|-------|----------|-----------------|-----------|----------|-----------|----------------------|\n",
    "| 2020  | 35       | 30              | 7         | 5        | 4         | 16                   |\n",
    "| 2025  | 33       | 31              | 7         | 7        | 5         | 19                   |\n",
    "| 2030  | 30       | 31              | 7         | 10       | 7         | 24                   |\n",
    "| 2035  | 28       | 30              | 7         | 13       | 9         | 29                   |\n",
    "| 2040  | 25       | 28              | 7         | 15       | 11        | 33                   |\n",
    "| 2045  | 20       | 25              | 7         | 18       | 14        | 39                   |\n",
    "| 2050  | 15       | 22              | 7         | 20       | 16        | 43                   |\n",
    "\n",
    "\n",
    "In the net-zero scenario, the country rapidly transitions to a fully decarbonized grid, with a strong emphasis on wind, solar, and hydro, and the complete elimination of fossil fuels by 2050.\n",
    "\n",
    "| Year  | Coal (%) | Natural Gas (%) | Hydro (%) | Wind (%) | Solar (%) | Total Renewables (%) |\n",
    "|-------|----------|-----------------|-----------|----------|-----------|----------------------|\n",
    "| 2020  | 35       | 30              | 7         | 5        | 4         | 16                   |\n",
    "| 2025  | 20       | 25              | 7         | 12       | 9         | 28                   |\n",
    "| 2030  | 10       | 20              | 8         | 20       | 15        | 43                   |\n",
    "| 2035  | 5        | 15              | 8         | 25       | 20        | 53                   |\n",
    "| 2040  | 2        | 10              | 8         | 30       | 25        | 63                   |\n",
    "| 2045  | 1        | 5               | 8         | 35       | 30        | 73                   |\n",
    "| 2050  | 0        | 0               | 8         | 40       | 35        | 83                   |\n",
    "\n",
    "\n",
    "Describe the evolution of the environmental impact of the electricity production system in the two scenarios. Present the results in stacked bar charts, with each bar representing the contribution of different activities to the total impact in each category. Describe the differences between the two scenarios and discuss the implications of the results.\n"
   ]
  },
  {
   "cell_type": "code",
   "id": "c38e51432a6f6770",
   "metadata": {},
   "source": "",
   "outputs": [],
   "execution_count": null
  },
  {
   "cell_type": "markdown",
   "id": "51eb201a2889c3e7",
   "metadata": {},
   "source": [
    "### Modify the matrix A to reflect the new scenarios\n",
    "\n",
    "Calculate the impact of the system for each scenario for each year and store the results in a list."
   ]
  },
  {
   "cell_type": "code",
   "id": "fae1a4ccc0ec4aa4",
   "metadata": {},
   "source": "",
   "outputs": [],
   "execution_count": null
  },
  {
   "cell_type": "markdown",
   "id": "a35ea239caad930e",
   "metadata": {},
   "source": [
    "### Store the results in a pandas DataFrame and plot the results in stacked bar charts"
   ]
  },
  {
   "cell_type": "code",
   "id": "b3d7767c27abcf57",
   "metadata": {},
   "source": "",
   "outputs": [],
   "execution_count": null
  },
  {
   "cell_type": "code",
   "id": "cb7c8395e0331646",
   "metadata": {},
   "source": "",
   "outputs": [],
   "execution_count": null
  },
  {
   "cell_type": "code",
   "id": "640a4a3d8bd42ebf",
   "metadata": {},
   "source": "",
   "outputs": [],
   "execution_count": null
  },
  {
   "cell_type": "markdown",
   "id": "53b215161ac7123e",
   "metadata": {},
   "source": [
    "### Answer the following questions.\n",
    "\n",
    "1. Does the Net Zero scenario achieve net domestic emissions of zero by 2050? Are there residual emissions in the system? If so, what are the main sources of these emissions?\n",
    "\n",
    "2. Can you identify trade-offs in the Net Zero scenario?"
   ]
  },
  {
   "cell_type": "markdown",
   "id": "56abc75eafae3268",
   "metadata": {},
   "source": []
  },
  {
   "cell_type": "markdown",
   "id": "17b508685a09d548",
   "metadata": {},
   "source": []
  }
 ],
 "metadata": {
  "kernelspec": {
   "display_name": "Python 3 (ipykernel)",
   "language": "python",
   "name": "python3"
  },
  "language_info": {
   "codemirror_mode": {
    "name": "ipython",
    "version": 3
   },
   "file_extension": ".py",
   "mimetype": "text/x-python",
   "name": "python",
   "nbconvert_exporter": "python",
   "pygments_lexer": "ipython3",
   "version": "3.10.0"
  }
 },
 "nbformat": 4,
 "nbformat_minor": 5
}
